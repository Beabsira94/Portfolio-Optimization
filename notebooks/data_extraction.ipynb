{
 "cells": [
  {
   "cell_type": "markdown",
   "metadata": {},
   "source": [
    "## Data Extraction"
   ]
  },
  {
   "cell_type": "markdown",
   "metadata": {},
   "source": [
    "In this notebook, we will extract and analyze historical financial data for three distinct securities: **Tesla (TSLA)**, **Vanguard Total Bond Market ETF (BND)**, and the **S&P 500 ETF (SPY)** using Yahoo Finance(**yfinance**) data. We will retrieve data spanning from January 1, 2015, to October 31, 2024, including daily trading metrics: Open, High, Low, Close, Adjusted Close, and Volume for each security. Each asset offers unique characteristics—TSLA represents high-growth, high-risk exposure in the consumer discretionary sector; BND provides stability through U.S. investment-grade bonds; and SPY offers diversified U.S. market exposure. This data will lay the foundation for portfolio analysis, where we will use each asset's performance metrics to assess their contributions to risk, return, and diversification within a potential investment portfolio. Finally, we will save each dataset as individual **.CSV files**, facilitating further financial analysis and modeling. "
   ]
  },
  {
   "cell_type": "code",
   "execution_count": 1,
   "metadata": {},
   "outputs": [
    {
     "name": "stdout",
     "output_type": "stream",
     "text": [
      "Fetching data for Tesla Inc. (TSLA) - High-growth, high-risk stock in the consumer discretionary sector (Automobile Manufacturing)\n"
     ]
    },
    {
     "name": "stderr",
     "output_type": "stream",
     "text": [
      "[*********************100%***********************]  1 of 1 completed\n"
     ]
    },
    {
     "name": "stdout",
     "output_type": "stream",
     "text": [
      "Data for TSLA saved to ../data/TSLA_historical_data.csv\n",
      "Fetching data for Vanguard Total Bond Market ETF (BND) - Bond ETF tracking U.S. investment-grade bonds, providing stability and income\n"
     ]
    },
    {
     "name": "stderr",
     "output_type": "stream",
     "text": [
      "[*********************100%***********************]  1 of 1 completed\n"
     ]
    },
    {
     "name": "stdout",
     "output_type": "stream",
     "text": [
      "Data for BND saved to ../data/BND_historical_data.csv\n",
      "Fetching data for SPDR S&P 500 ETF Trust (SPY) - ETF tracking the S&P 500 Index, offering broad U.S. market exposure\n"
     ]
    },
    {
     "name": "stderr",
     "output_type": "stream",
     "text": [
      "[*********************100%***********************]  1 of 1 completed"
     ]
    },
    {
     "name": "stdout",
     "output_type": "stream",
     "text": [
      "Data for SPY saved to ../data/SPY_historical_data.csv\n"
     ]
    },
    {
     "name": "stderr",
     "output_type": "stream",
     "text": [
      "\n"
     ]
    }
   ],
   "source": [
    "import yfinance as yf\n",
    "import pandas as pd\n",
    "from datetime import datetime\n",
    "\n",
    "# Define the start and end dates\n",
    "start_date = '2015-01-01'\n",
    "end_date = '2024-10-31'\n",
    "\n",
    "# Directory to save CSV files\n",
    "save_dir = \"../data/\"\n",
    "\n",
    "# Define the assets and their descriptions\n",
    "assets = {\n",
    "    \"TSLA\": \"Tesla Inc. (TSLA) - High-growth, high-risk stock in the consumer discretionary sector (Automobile Manufacturing)\",\n",
    "    \"BND\": \"Vanguard Total Bond Market ETF (BND) - Bond ETF tracking U.S. investment-grade bonds, providing stability and income\",\n",
    "    \"SPY\": \"SPDR S&P 500 ETF Trust (SPY) - ETF tracking the S&P 500 Index, offering broad U.S. market exposure\"\n",
    "}\n",
    "\n",
    "# Fetch and save data for each asset\n",
    "for ticker, description in assets.items():\n",
    "    print(f\"Fetching data for {description}\")\n",
    "    \n",
    "    # Fetch the data using yfinance\n",
    "    data = yf.download(ticker, start=start_date, end=end_date)\n",
    "    \n",
    "    # Check if data was fetched successfully\n",
    "    if not data.empty:\n",
    "        # Select only the required columns\n",
    "        data = data[['Open', 'High', 'Low', 'Close', 'Adj Close', 'Volume']]\n",
    "        \n",
    "        # Reset the index to have Date as a column\n",
    "        data.reset_index(inplace=True)\n",
    "        \n",
    "        # Save each dataset as a CSV file\n",
    "        file_path = f\"{save_dir}{ticker}_historical_data.csv\"\n",
    "        data.to_csv(file_path, index=False)\n",
    "        print(f\"Data for {ticker} saved to {file_path}\")\n",
    "    else:\n",
    "        print(f\"Data for {ticker} could not be fetched.\")"
   ]
  }
 ],
 "metadata": {
  "kernelspec": {
   "display_name": "venv",
   "language": "python",
   "name": "python3"
  },
  "language_info": {
   "codemirror_mode": {
    "name": "ipython",
    "version": 3
   },
   "file_extension": ".py",
   "mimetype": "text/x-python",
   "name": "python",
   "nbconvert_exporter": "python",
   "pygments_lexer": "ipython3",
   "version": "3.11.4"
  }
 },
 "nbformat": 4,
 "nbformat_minor": 2
}
